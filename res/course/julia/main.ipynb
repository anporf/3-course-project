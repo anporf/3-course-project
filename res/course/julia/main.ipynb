{
 "cells": [
  {
   "cell_type": "code",
   "execution_count": 1,
   "metadata": {},
   "outputs": [],
   "source": [
    "# using Pkg\n",
    "# Pkg.add(\"JSON\") "
   ]
  },
  {
   "cell_type": "code",
   "execution_count": 2,
   "metadata": {},
   "outputs": [],
   "source": [
    "using DataStructures"
   ]
  },
  {
   "cell_type": "code",
   "execution_count": 3,
   "metadata": {},
   "outputs": [
    {
     "data": {
      "text/plain": [
       "1.0e-6"
      ]
     },
     "metadata": {},
     "output_type": "display_data"
    }
   ],
   "source": [
    "lens = Dict{Tuple{Int64, Int64}, Real}()\n",
    "\n",
    "# for i in 1:4\n",
    "#     for j in 1:4\n",
    "#         ind = (i, j)\n",
    "#         if i == j\n",
    "#             lens[ind] = 0\n",
    "#         else\n",
    "#             lens[ind] = 1\n",
    "#         end\n",
    "#     end\n",
    "# end\n",
    "\n",
    "eps = 1e-6"
   ]
  },
  {
   "cell_type": "code",
   "execution_count": 4,
   "metadata": {},
   "outputs": [
    {
     "data": {
      "text/plain": [
       "dist3 (generic function with 1 method)"
      ]
     },
     "metadata": {},
     "output_type": "display_data"
    }
   ],
   "source": [
    "function cross_prod(v::AbstractVector{<:Real}, w::AbstractVector{<:Real})\n",
    "    return v[1] * w[2] - v[2] * w[1]\n",
    "end\n",
    "\n",
    "function quadratic_equation_solve(a::Real, b::Real, c::Real)\n",
    "    D = b * b - 4 * a * c\n",
    "    return [(-b - sqrt(D)) / (2 * a), (-b + sqrt(D)) / (2 * a)]\n",
    "end\n",
    "\n",
    "function dist(v::AbstractVector{<:Real}, w::AbstractVector{<:Real})\n",
    "    return sqrt((v[1] - w[1]) * (v[1] - w[1]) + (v[2] - w[2]) * (v[2] - w[2]))\n",
    "end\n",
    "\n",
    "function dist3(v::AbstractVector{<:Real}, w::AbstractVector{<:Real})\n",
    "    return sqrt((v[1] - w[1]) * (v[1] - w[1]) + (v[2] - w[2]) * (v[2] - w[2]) + (v[3] - w[3]) * (v[3] - w[3]))\n",
    "end"
   ]
  },
  {
   "cell_type": "code",
   "execution_count": 5,
   "metadata": {},
   "outputs": [
    {
     "data": {
      "text/plain": [
       "intersection (generic function with 1 method)"
      ]
     },
     "metadata": {},
     "output_type": "display_data"
    }
   ],
   "source": [
    "function intersection(w1::Tuple{AbstractVector{<:Real}, <:Real}, w2::Tuple{AbstractVector{<:Real}, <:Real})\n",
    "    x1 = w1[1][1]\n",
    "    x2 = w2[1][1]\n",
    "    y1 = w1[1][2]\n",
    "    y2 = w2[1][2]\n",
    "    r1 = w1[2]\n",
    "    r2 = w2[2]\n",
    "\n",
    "    a = 2 * (x2 - x1)\n",
    "    b = 2 * (y2 - y1)\n",
    "    c = (x1 * x1 - x2 * x2 + y1 * y1 - y2 * y2 - r1 * r1 + r2 * r2)\n",
    "    if abs(b) < eps\n",
    "        x = -c / a\n",
    "        ys = quadratic_equation_solve(1, -2 * y1, y1 * y1 - r1 * r1 + (x - x1) * (x - x1))\n",
    "        xs = [x, x]\n",
    "    else\n",
    "        xs = quadratic_equation_solve(((a * a) / (b * b)) + 1, -2 * x1 + 2 * (a / b) * (y1 + c / b), x1 * x1 - r1 * r1 + (y1 + c / b) * (y1 + c / b))\n",
    "        ys = [(-c - a * xs[1]) / b, (-c - a * xs[2]) / b]\n",
    "    end\n",
    "    # println((xs[1] - x1) * (xs[1] - x1) + (ys[1] - y1) * (ys[1] - y1) - r1 * r1, ' ', (xs[1] - x2) * (xs[1] - x2) + (ys[1] - y2) * (ys[1] - y2) - r2 * r2)\n",
    "    return [[xs[1], ys[1]], [xs[2], ys[2]]]\n",
    "end"
   ]
  },
  {
   "cell_type": "code",
   "execution_count": 6,
   "metadata": {},
   "outputs": [
    {
     "data": {
      "text/plain": [
       "make_next (generic function with 1 method)"
      ]
     },
     "metadata": {},
     "output_type": "display_data"
    }
   ],
   "source": [
    "function make_next(A::Tuple{AbstractVector{<:Real}, Int64}, B::Tuple{AbstractVector{<:Real}, Int64}, C::Tuple{AbstractVector{<:Real}, Int64}, edge::Tuple{Int64, Int64})\n",
    "    left = edge[1]\n",
    "    right = edge[2]\n",
    "    vertexes = [A, B, C]\n",
    "    ver_nums = [A[2], B[2], C[2]]\n",
    "    V1 = vertexes[(findfirst(x -> x == left, ver_nums))]\n",
    "    V2 = vertexes[(findfirst(x -> x == right, ver_nums))]\n",
    "    V3 = vertexes[(findfirst(x -> !(x == left || x == right), ver_nums))]\n",
    "    num_D = 10 - A[2] - B[2] - C[2]\n",
    "    V1D = lens[(V1[2], num_D)]\n",
    "    V2D = lens[(V2[2], num_D)]\n",
    "    Ds = intersection((V1[1], V1D), (V2[1], V2D))\n",
    "    D1 = Ds[1]\n",
    "    D2 = Ds[2]\n",
    "    V1V2 = [V2[1][1] - V1[1][1], V2[1][2] - V1[1][2]]\n",
    "    V1D1 = [D1[1] - V1[1][1], D1[2] - V1[1][2]]\n",
    "    V1V3 = [V3[1][1] - V1[1][1], V3[1][2] - V1[1][2]]\n",
    "    D = (D1, num_D)\n",
    "    if cross_prod(V1V2, V1D1) * cross_prod(V1V2, V1V3) > 0\n",
    "        D = (D2, num_D)\n",
    "    end\n",
    "    return [V1, V2, D]\n",
    "end"
   ]
  },
  {
   "cell_type": "code",
   "execution_count": 7,
   "metadata": {},
   "outputs": [],
   "source": [
    "# A = ([0, 0], 1)\n",
    "# B = ([1, 0], 2)\n",
    "# C = ([1 / 2, sqrt(3) / 2], 3)\n",
    "# edge = (1, 3)\n",
    "# println(make_next(A, B, C, edge))"
   ]
  },
  {
   "cell_type": "code",
   "execution_count": 8,
   "metadata": {},
   "outputs": [
    {
     "data": {
      "text/plain": [
       "add_point (generic function with 1 method)"
      ]
     },
     "metadata": {},
     "output_type": "display_data"
    }
   ],
   "source": [
    "function add_point(P::Tuple{AbstractVector{<:Real}, Int64}, points::AbstractVector{Tuple{AbstractVector{Real}, Int64}}, t::Real)\n",
    "    if (dist(P[1], [0, 0])) > t\n",
    "        return false\n",
    "    end\n",
    "    for check in points\n",
    "        if (dist(P[1], check[1]) < eps && P[2] == check[2])\n",
    "            return false\n",
    "        end\n",
    "    end\n",
    "    push!(points, P)\n",
    "    return true\n",
    "end"
   ]
  },
  {
   "cell_type": "code",
   "execution_count": 19,
   "metadata": {},
   "outputs": [
    {
     "data": {
      "text/plain": [
       "get_all_points (generic function with 1 method)"
      ]
     },
     "metadata": {},
     "output_type": "display_data"
    }
   ],
   "source": [
    "function get_all_points(A::AbstractVector{<:Real}, B::AbstractVector{<:Real}, C::AbstractVector{<:Real}, D::AbstractVector{<:Real}, t::Real)\n",
    "    vertexes = [A, B, C, D]\n",
    "    for i in 1:4\n",
    "        for j in 1:4\n",
    "            ind = (i, j)\n",
    "            if i == j\n",
    "                lens[ind] = 0\n",
    "            else\n",
    "                lens[ind] = dist3(vertexes[i], vertexes[j])\n",
    "            end\n",
    "        end\n",
    "    end\n",
    "\n",
    "    Ap = (A[1:2], 1)\n",
    "    Bp = (B[1:2], 2)\n",
    "    Cp = (C[1:2], 3)\n",
    "    start = [Ap, Bp, Cp]\n",
    "    points = Base.Vector{Tuple{AbstractVector{Real}, Int64}}()\n",
    "    push!(points, Ap)\n",
    "    push!(points, Bp)\n",
    "    push!(points, Cp)\n",
    "    q = Queue{Tuple{AbstractVector{Tuple{AbstractVector{Real}, Int64}}, Tuple{Int64, Int64}}}()\n",
    "    enqueue!(q, (start, (0, 0)))\n",
    "    start_time = time_ns()\n",
    "    while length(q) != 0 && (time_ns() - start_time) < 3e10\n",
    "        info = dequeue!(q)\n",
    "        face = info[1]\n",
    "        last_edge = info[2]\n",
    "        edges = [(face[1][2], face[2][2]), (face[1][2], face[3][2]), (face[2][2], face[3][2])]\n",
    "        edges = filter(x -> x != last_edge, edges)\n",
    "        faces = Base.Vector{Tuple{AbstractVector{Tuple{AbstractVector{<:Real}, Int64}}, Tuple{Int64, Int64}}}()\n",
    "        for edge in edges\n",
    "            push!(faces, (make_next(face[1], face[2], face[3], edge), edge))\n",
    "        end\n",
    "        for info_it in faces\n",
    "            face_it = info_it[1]\n",
    "            edge_if = info_it[2]\n",
    "            flag = false\n",
    "            for point_tup in face_it\n",
    "                flag = flag || add_point(point_tup, points, t)\n",
    "            end\n",
    "            if flag\n",
    "                enqueue!(q, info_it)\n",
    "            end\n",
    "        end\n",
    "    end\n",
    "    return points\n",
    "end"
   ]
  },
  {
   "cell_type": "code",
   "execution_count": 20,
   "metadata": {},
   "outputs": [
    {
     "data": {
      "text/plain": [
       "get_geodesics (generic function with 1 method)"
      ]
     },
     "metadata": {},
     "output_type": "display_data"
    }
   ],
   "source": [
    "function get_geodesics(points::AbstractVector{Tuple{AbstractVector{Real}, Int64}}, precision::Int64)\n",
    "    result = Dict{Real, Int64}()\n",
    "    for A in points\n",
    "        for B in points\n",
    "            if A[2] == B[2]\n",
    "                continue\n",
    "            end\n",
    "            geodesic_len = round(dist(A[1], B[1]), digits=precision)\n",
    "            result[geodesic_len] = get(result, geodesic_len, 0) + 1\n",
    "        end\n",
    "    end\n",
    "    return result\n",
    "end\n"
   ]
  },
  {
   "cell_type": "code",
   "execution_count": 28,
   "metadata": {},
   "outputs": [
    {
     "data": {
      "text/plain": [
       "10895-element Vector{Tuple{AbstractVector{Real}, Int64}}:\n",
       " ([0, 0], 1)\n",
       " ([1, 0], 2)\n",
       " ([0.5, 0.8660254037844386], 3)\n",
       " ([0.5, -1.2583057392117916], 4)\n",
       " ([-0.839724735885168, 1.062165571498115], 4)\n",
       " ([1.8397247358851678, 1.0621655714981149], 4)\n",
       " ([-0.727272727272727, -0.6863485850246136], 3)\n",
       " ([1.7272727272727273, -0.6863485850246136], 3)\n",
       " ([-0.9580316741191828, -0.2866623647854667], 2)\n",
       " ([0.2692410531535447, 1.8390363535945187], 2)\n",
       " ⋮\n",
       " ([-5.671408054114878, 1.3107781965764438], 4)\n",
       " ([-1.8939073309816419, -0.09377825944709287], 3)\n",
       " ([-2.1806549944156575, 2.3439602757418037], 3)\n",
       " ([-4.572332105983994, 1.059246534558979], 1)\n",
       " ([-2.604562438443158, 2.5264465631631126], 1)\n",
       " ([-1.3237572494091212, -1.2335160131091278], 2)\n",
       " ([0.23023952681044194, -2.4587332867947254], 2)\n",
       " ([-1.12259599652307, -5.027523313275866], 4)\n",
       " ([0.713859890861336, -3.076400752937461], 4)"
      ]
     },
     "metadata": {},
     "output_type": "display_data"
    }
   ],
   "source": [
    "A = [0, 0, 0]\n",
    "B = [1, 0, 0]\n",
    "C = [1 / 2, sqrt(3) / 2, 0]\n",
    "D = [1 / 2, sqrt(3) / 6, sqrt(6) / 2]\n",
    "count_lens = Dict{Real, Int64}()\n",
    "\n",
    "points = get_all_points(A, B, C, D, 10)\n",
    "\n",
    "# for double_t in 1:6\n",
    "#     t = double_t / 2\n",
    "#     points = get_all_points(A, B, C, D, t)\n",
    "#     count_lens[t] = length(get_geodesics(points, 3))\n",
    "#     println(\"done \", t)\n",
    "#     println(count_lens[t])\n",
    "# end\n",
    "# println(1)"
   ]
  },
  {
   "cell_type": "code",
   "execution_count": 12,
   "metadata": {},
   "outputs": [
    {
     "name": "stdout",
     "output_type": "stream",
     "text": [
      "Dict{Real, Int64}()"
     ]
    }
   ],
   "source": [
    "print(count_lens)"
   ]
  },
  {
   "cell_type": "code",
   "execution_count": 29,
   "metadata": {},
   "outputs": [],
   "source": [
    "using JSON\n",
    "\n",
    "io = open(\"points.json\", \"w\");\n",
    "JSON.print(io, points, 2)\n",
    "close(io);"
   ]
  },
  {
   "cell_type": "code",
   "execution_count": 14,
   "metadata": {},
   "outputs": [],
   "source": [
    "# using JSON\n",
    "\n",
    "# io = open(\"reg_points.json\", \"w\");\n",
    "# JSON.print(io, count_lens, 2)\n",
    "# close(io);"
   ]
  },
  {
   "cell_type": "code",
   "execution_count": 15,
   "metadata": {},
   "outputs": [],
   "source": [
    "# using JSON\n",
    "\n",
    "# io = open(\"res.json\", \"w\");\n",
    "# res = Dict{Tuple{Real, Real}, Int64}()\n",
    "# for point in points\n",
    "#     res[(point[1][1], point[1][2])] =point[2]\n",
    "# end\n",
    "# JSON.print(io, res, 2)\n",
    "# close(io);"
   ]
  },
  {
   "cell_type": "code",
   "execution_count": 16,
   "metadata": {},
   "outputs": [],
   "source": [
    "# A1 = [0, 0, 0]\n",
    "# B1 = [1, 0, 0]\n",
    "# C1 = [1 / 2, sqrt(3) / 2, 0]\n",
    "# D1 = [1 / 2, sqrt(3) / 6, sqrt(6) / 2]\n",
    "# t = 5\n",
    "\n",
    "# points2 = get_all_points(A1, B1, C1, D1, t)"
   ]
  },
  {
   "cell_type": "code",
   "execution_count": 17,
   "metadata": {},
   "outputs": [],
   "source": [
    "# using JSON\n",
    "\n",
    "# io = open(\"res2.json\", \"w\");\n",
    "# res = Dict{Tuple{Real, Real}, Int64}()\n",
    "# for point in points2\n",
    "#     res[(point[1][1], point[1][2])] = point[2]\n",
    "# end\n",
    "# JSON.print(io, res, 2)\n",
    "# close(io);"
   ]
  }
 ],
 "metadata": {
  "kernelspec": {
   "display_name": "Julia 1.8.3",
   "language": "julia",
   "name": "julia-1.8"
  },
  "language_info": {
   "file_extension": ".jl",
   "mimetype": "application/julia",
   "name": "julia",
   "version": "1.8.3"
  },
  "orig_nbformat": 4
 },
 "nbformat": 4,
 "nbformat_minor": 2
}
